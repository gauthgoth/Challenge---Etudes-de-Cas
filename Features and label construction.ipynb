{
 "cells": [
  {
   "cell_type": "code",
   "execution_count": 1,
   "id": "8f0a3b8f",
   "metadata": {},
   "outputs": [],
   "source": [
    "import pandas as pd\n",
    "import os\n",
    "from functools import reduce"
   ]
  },
  {
   "cell_type": "code",
   "execution_count": 2,
   "id": "b415f870",
   "metadata": {},
   "outputs": [
    {
     "name": "stderr",
     "output_type": "stream",
     "text": [
      "/var/folders/kf/rsvfsx611_3f7p2ctq98yhqm0000gn/T/ipykernel_7236/3375855187.py:1: DtypeWarning: Columns (6,7,15) have mixed types. Specify dtype option on import or set low_memory=False.\n",
      "  caracteristiques = pd.read_csv(\"data/caracteristiques.csv\")\n",
      "/var/folders/kf/rsvfsx611_3f7p2ctq98yhqm0000gn/T/ipykernel_7236/3375855187.py:4: DtypeWarning: Columns (2,7,8,12,13) have mixed types. Specify dtype option on import or set low_memory=False.\n",
      "  lieux = pd.read_csv(\"data/lieux.csv\")\n"
     ]
    }
   ],
   "source": [
    "caracteristiques = pd.read_csv(\"data/caracteristiques.csv\")\n",
    "vehicules = pd.read_csv(\"data/vehicules.csv\")\n",
    "usagers = pd.read_csv(\"data/usagers.csv\")\n",
    "lieux = pd.read_csv(\"data/lieux.csv\")\n",
    "\n",
    "df_agg = reduce(lambda df1,df2: pd.merge(df1,df2,on='Num_Acc'), [caracteristiques, vehicules, usagers, lieux])"
   ]
  },
  {
   "cell_type": "code",
   "execution_count": 3,
   "id": "66610d34",
   "metadata": {},
   "outputs": [],
   "source": [
    "features = ['Num_Acc', 'an', \"catv\", 'agg', 'int', 'adr', 'code_insee',\n",
    "            'catr','circ', 'nbv', 'vosp', 'prof', 'plan','infra']"
   ]
  },
  {
   "cell_type": "code",
   "execution_count": 4,
   "id": "dbcf5def",
   "metadata": {},
   "outputs": [],
   "source": [
    "df_agg_clean = df_agg[features]"
   ]
  },
  {
   "cell_type": "code",
   "execution_count": 5,
   "id": "978e33ee",
   "metadata": {},
   "outputs": [],
   "source": [
    "df_agg_clean = df_agg_clean[df_agg_clean[\"an\"]==2021]\n",
    "df_agg_clean = df_agg_clean[df_agg_clean[\"catv\"].isin([1, 50, 60])]"
   ]
  },
  {
   "cell_type": "code",
   "execution_count": 6,
   "id": "89575c8b",
   "metadata": {},
   "outputs": [],
   "source": [
    "df_agg_clean.loc[df_agg_clean[\"adr\"].isna(), \"adr\"] = df_agg_clean.loc[df_agg_clean[\"adr\"].isna(), \"Num_Acc\"].astype(str)"
   ]
  },
  {
   "cell_type": "code",
   "execution_count": 7,
   "id": "14290898",
   "metadata": {},
   "outputs": [],
   "source": [
    "df_agg_clean = df_agg_clean[['Num_Acc', 'agg',\n",
    "                             'int', 'adr', 'code_insee','catr','circ', \n",
    "                             'nbv', 'vosp', 'prof', 'plan','infra']].drop_duplicates()"
   ]
  },
  {
   "cell_type": "code",
   "execution_count": 8,
   "id": "49941cf7",
   "metadata": {},
   "outputs": [],
   "source": [
    "df_agg_clean[\"route\"] = df_agg_clean[\"adr\"] + df_agg_clean[\"code_insee\"]"
   ]
  },
  {
   "cell_type": "code",
   "execution_count": 9,
   "id": "aa8a2b90",
   "metadata": {},
   "outputs": [],
   "source": [
    "def delete_wong_values(df, column):\n",
    "    df_wrong_column = df.groupby(['route'], as_index=False)[column].nunique()\n",
    "    wrong_column = set(df_wrong_column[df_wrong_column[column]>=2]['route'])\n",
    "    print(\"There is \", len(wrong_column), \" wrong value for \", column)\n",
    "    return df[~df[\"route\"].isin(wrong_column)]\n",
    "\n",
    "def select_wong_values(df, column):\n",
    "    df_wrong_column = df.groupby(['route'], as_index=False)[column].nunique()\n",
    "    wrong_column = set(df_wrong_column[df_wrong_column[column]>=3]['route'])\n",
    "    print(\"There is \", len(wrong_column), \" wrong value for \", column)\n",
    "    return df[df[\"route\"].isin(wrong_column)]"
   ]
  },
  {
   "cell_type": "code",
   "execution_count": 32,
   "id": "ec72a304",
   "metadata": {},
   "outputs": [],
   "source": [
    "#select_wong_values(df_agg_clean, 'vosp').sort_values(by=\"route\")"
   ]
  },
  {
   "cell_type": "code",
   "execution_count": 33,
   "id": "573d3cc2",
   "metadata": {},
   "outputs": [],
   "source": [
    "#list_col = [\"agg\", \"catr\", 'circ', 'nbv', 'vosp', 'infra', 'vosp']\n",
    "#for col in list_col:\n",
    "#    df_agg_clean = delete_wong_values(df_agg_clean, col)"
   ]
  },
  {
   "cell_type": "code",
   "execution_count": 34,
   "id": "9d24883f",
   "metadata": {},
   "outputs": [],
   "source": [
    "#df_agg_clean[df_agg_clean[\"route\"].isin(wrong_catr)].sort_values(by=\"route\")"
   ]
  },
  {
   "cell_type": "code",
   "execution_count": 35,
   "id": "6c8b9188",
   "metadata": {},
   "outputs": [],
   "source": [
    "#df_agg_clean.loc[df_agg_clean[\"route\"].isin(wrong_catr), \"catr\"].replace({3:4})"
   ]
  },
  {
   "cell_type": "code",
   "execution_count": 10,
   "id": "e5d48329",
   "metadata": {},
   "outputs": [
    {
     "data": {
      "text/html": [
       "<div>\n",
       "<style scoped>\n",
       "    .dataframe tbody tr th:only-of-type {\n",
       "        vertical-align: middle;\n",
       "    }\n",
       "\n",
       "    .dataframe tbody tr th {\n",
       "        vertical-align: top;\n",
       "    }\n",
       "\n",
       "    .dataframe thead th {\n",
       "        text-align: right;\n",
       "    }\n",
       "</style>\n",
       "<table border=\"1\" class=\"dataframe\">\n",
       "  <thead>\n",
       "    <tr style=\"text-align: right;\">\n",
       "      <th></th>\n",
       "      <th>Num_Acc</th>\n",
       "    </tr>\n",
       "  </thead>\n",
       "  <tbody>\n",
       "    <tr>\n",
       "      <th>count</th>\n",
       "      <td>5729.000000</td>\n",
       "    </tr>\n",
       "    <tr>\n",
       "      <th>mean</th>\n",
       "      <td>1.223250</td>\n",
       "    </tr>\n",
       "    <tr>\n",
       "      <th>std</th>\n",
       "      <td>0.999953</td>\n",
       "    </tr>\n",
       "    <tr>\n",
       "      <th>min</th>\n",
       "      <td>1.000000</td>\n",
       "    </tr>\n",
       "    <tr>\n",
       "      <th>25%</th>\n",
       "      <td>1.000000</td>\n",
       "    </tr>\n",
       "    <tr>\n",
       "      <th>50%</th>\n",
       "      <td>1.000000</td>\n",
       "    </tr>\n",
       "    <tr>\n",
       "      <th>75%</th>\n",
       "      <td>1.000000</td>\n",
       "    </tr>\n",
       "    <tr>\n",
       "      <th>max</th>\n",
       "      <td>27.000000</td>\n",
       "    </tr>\n",
       "  </tbody>\n",
       "</table>\n",
       "</div>"
      ],
      "text/plain": [
       "           Num_Acc\n",
       "count  5729.000000\n",
       "mean      1.223250\n",
       "std       0.999953\n",
       "min       1.000000\n",
       "25%       1.000000\n",
       "50%       1.000000\n",
       "75%       1.000000\n",
       "max      27.000000"
      ]
     },
     "execution_count": 10,
     "metadata": {},
     "output_type": "execute_result"
    }
   ],
   "source": [
    "df_agg_clean.groupby(['route'], as_index=False)['Num_Acc'].nunique().describe()"
   ]
  },
  {
   "cell_type": "code",
   "execution_count": 19,
   "id": "1021a15a",
   "metadata": {},
   "outputs": [
    {
     "data": {
      "text/html": [
       "<div>\n",
       "<style scoped>\n",
       "    .dataframe tbody tr th:only-of-type {\n",
       "        vertical-align: middle;\n",
       "    }\n",
       "\n",
       "    .dataframe tbody tr th {\n",
       "        vertical-align: top;\n",
       "    }\n",
       "\n",
       "    .dataframe thead th {\n",
       "        text-align: right;\n",
       "    }\n",
       "</style>\n",
       "<table border=\"1\" class=\"dataframe\">\n",
       "  <thead>\n",
       "    <tr style=\"text-align: right;\">\n",
       "      <th></th>\n",
       "      <th>agg</th>\n",
       "      <th>int</th>\n",
       "      <th>catr</th>\n",
       "      <th>circ</th>\n",
       "      <th>nbv</th>\n",
       "      <th>vosp</th>\n",
       "      <th>prof</th>\n",
       "      <th>plan</th>\n",
       "      <th>infra</th>\n",
       "      <th>Num_Acc</th>\n",
       "    </tr>\n",
       "  </thead>\n",
       "  <tbody>\n",
       "    <tr>\n",
       "      <th>count</th>\n",
       "      <td>6912.000000</td>\n",
       "      <td>6912.000000</td>\n",
       "      <td>6912.000000</td>\n",
       "      <td>6912.000000</td>\n",
       "      <td>6912.000000</td>\n",
       "      <td>6912.000000</td>\n",
       "      <td>6912.000000</td>\n",
       "      <td>6912.000000</td>\n",
       "      <td>6912.000000</td>\n",
       "      <td>6912.000000</td>\n",
       "    </tr>\n",
       "    <tr>\n",
       "      <th>mean</th>\n",
       "      <td>1.860388</td>\n",
       "      <td>2.579572</td>\n",
       "      <td>3.844184</td>\n",
       "      <td>1.672598</td>\n",
       "      <td>2.143808</td>\n",
       "      <td>0.494358</td>\n",
       "      <td>1.220775</td>\n",
       "      <td>1.230035</td>\n",
       "      <td>0.813802</td>\n",
       "      <td>1.013889</td>\n",
       "    </tr>\n",
       "    <tr>\n",
       "      <th>std</th>\n",
       "      <td>0.346609</td>\n",
       "      <td>2.169901</td>\n",
       "      <td>0.972282</td>\n",
       "      <td>0.872255</td>\n",
       "      <td>1.180869</td>\n",
       "      <td>0.851410</td>\n",
       "      <td>0.526411</td>\n",
       "      <td>0.597134</td>\n",
       "      <td>2.240669</td>\n",
       "      <td>0.127681</td>\n",
       "    </tr>\n",
       "    <tr>\n",
       "      <th>min</th>\n",
       "      <td>1.000000</td>\n",
       "      <td>1.000000</td>\n",
       "      <td>1.000000</td>\n",
       "      <td>-1.000000</td>\n",
       "      <td>-1.000000</td>\n",
       "      <td>-1.000000</td>\n",
       "      <td>-1.000000</td>\n",
       "      <td>-1.000000</td>\n",
       "      <td>-1.000000</td>\n",
       "      <td>1.000000</td>\n",
       "    </tr>\n",
       "    <tr>\n",
       "      <th>25%</th>\n",
       "      <td>2.000000</td>\n",
       "      <td>1.000000</td>\n",
       "      <td>3.000000</td>\n",
       "      <td>1.000000</td>\n",
       "      <td>2.000000</td>\n",
       "      <td>0.000000</td>\n",
       "      <td>1.000000</td>\n",
       "      <td>1.000000</td>\n",
       "      <td>0.000000</td>\n",
       "      <td>1.000000</td>\n",
       "    </tr>\n",
       "    <tr>\n",
       "      <th>50%</th>\n",
       "      <td>2.000000</td>\n",
       "      <td>2.000000</td>\n",
       "      <td>4.000000</td>\n",
       "      <td>2.000000</td>\n",
       "      <td>2.000000</td>\n",
       "      <td>0.000000</td>\n",
       "      <td>1.000000</td>\n",
       "      <td>1.000000</td>\n",
       "      <td>0.000000</td>\n",
       "      <td>1.000000</td>\n",
       "    </tr>\n",
       "    <tr>\n",
       "      <th>75%</th>\n",
       "      <td>2.000000</td>\n",
       "      <td>3.000000</td>\n",
       "      <td>4.000000</td>\n",
       "      <td>2.000000</td>\n",
       "      <td>2.000000</td>\n",
       "      <td>1.000000</td>\n",
       "      <td>1.000000</td>\n",
       "      <td>1.000000</td>\n",
       "      <td>0.000000</td>\n",
       "      <td>1.000000</td>\n",
       "    </tr>\n",
       "    <tr>\n",
       "      <th>max</th>\n",
       "      <td>2.000000</td>\n",
       "      <td>9.000000</td>\n",
       "      <td>9.000000</td>\n",
       "      <td>4.000000</td>\n",
       "      <td>12.000000</td>\n",
       "      <td>3.000000</td>\n",
       "      <td>4.000000</td>\n",
       "      <td>4.000000</td>\n",
       "      <td>9.000000</td>\n",
       "      <td>4.000000</td>\n",
       "    </tr>\n",
       "  </tbody>\n",
       "</table>\n",
       "</div>"
      ],
      "text/plain": [
       "               agg          int         catr         circ          nbv  \\\n",
       "count  6912.000000  6912.000000  6912.000000  6912.000000  6912.000000   \n",
       "mean      1.860388     2.579572     3.844184     1.672598     2.143808   \n",
       "std       0.346609     2.169901     0.972282     0.872255     1.180869   \n",
       "min       1.000000     1.000000     1.000000    -1.000000    -1.000000   \n",
       "25%       2.000000     1.000000     3.000000     1.000000     2.000000   \n",
       "50%       2.000000     2.000000     4.000000     2.000000     2.000000   \n",
       "75%       2.000000     3.000000     4.000000     2.000000     2.000000   \n",
       "max       2.000000     9.000000     9.000000     4.000000    12.000000   \n",
       "\n",
       "              vosp         prof         plan        infra      Num_Acc  \n",
       "count  6912.000000  6912.000000  6912.000000  6912.000000  6912.000000  \n",
       "mean      0.494358     1.220775     1.230035     0.813802     1.013889  \n",
       "std       0.851410     0.526411     0.597134     2.240669     0.127681  \n",
       "min      -1.000000    -1.000000    -1.000000    -1.000000     1.000000  \n",
       "25%       0.000000     1.000000     1.000000     0.000000     1.000000  \n",
       "50%       0.000000     1.000000     1.000000     0.000000     1.000000  \n",
       "75%       1.000000     1.000000     1.000000     0.000000     1.000000  \n",
       "max       3.000000     4.000000     4.000000     9.000000     4.000000  "
      ]
     },
     "execution_count": 19,
     "metadata": {},
     "output_type": "execute_result"
    }
   ],
   "source": [
    "df_agg_clean.groupby(['route','agg','int', 'adr', 'code_insee','catr','circ', \n",
    "                      'nbv', 'vosp', 'prof', 'plan','infra'], as_index=False)['Num_Acc'].nunique().describe()"
   ]
  },
  {
   "cell_type": "code",
   "execution_count": 13,
   "id": "e38794ff",
   "metadata": {},
   "outputs": [],
   "source": [
    "def one_hot_encoder(dataframe:pd.DataFrame, column:list):\n",
    "    \"\"\" \n",
    "    One Hot Encoding of the list of Column column in the dataframe dataframe filling Nan value with the most frequent value\n",
    "    \"\"\"\n",
    "    dummies = pd.get_dummies(dataframe[column])\n",
    "    return pd.concat([dataframe.drop(column, axis=1), dummies], axis=1)"
   ]
  },
  {
   "cell_type": "code",
   "execution_count": 16,
   "id": "aaf4d39e",
   "metadata": {},
   "outputs": [],
   "source": [
    "dict_value_by_column = {\"agg\":{1:\"hors_agglo\" , 2:\"en_agglo\"},\n",
    "                        \n",
    "                        \"int\":{1:\"hors_intersection\", 2:\"intersection\", 3:\"intersection\", 4:\"intersection\",\n",
    "                               \n",
    "                              5:\"intersection\", 6:\"giratoire\", 7:\"place\", 8:\"passage_a_niveau\", 9:\"intersection\"},\n",
    "                        \"catr\":{1:\"autoroute\", 2:\"route_nationale\", 3:\"route_departementale\", 4:\"voie_communales\",\n",
    "                                5:\"hors_reseau_public\", 6:\"stationnement_ouvert_a_circulation\",\n",
    "                                7:\"route_metropole_urbaine\", 9:\"autre\"},\n",
    "                        \n",
    "                        \"circ\":{-1:\"non_renseigne\", 1:\"sens_unique\", 2:\"bidirectionnelle\",\n",
    "                                3:\"chaussees_separees\", 4:\"voies_d_affectation_variable\"},\n",
    "                        \n",
    "                        \"vosp\":{-1:\"non_renseigne\", 0:\"sans_objet\", 1:\"piste_cyclable\", \n",
    "                                2:\"bande_cyclable\", 3:\"voie_reservee\"},\n",
    "                        \n",
    "                        \"prof\":{-1:\"non_renseigne\", 1:\"plat\",2:\"pente\", 3:\"sommet_de_cote\", 4:\"bas_de_cote\"},\n",
    "                        \n",
    "                        \"plan\":{-1:\"non_renseigne\", 1:\"partie_rectiligne\", 2:\"en_courbe_a_gauche\",\n",
    "                                3:\"en_courbe_a_droite\", 4:\"en_s\"}\n",
    "                        \n",
    "                        \n",
    "                       }"
   ]
  },
  {
   "cell_type": "code",
   "execution_count": 18,
   "id": "d1556cb0",
   "metadata": {},
   "outputs": [
    {
     "data": {
      "text/plain": [
       "'autoroute'"
      ]
     },
     "execution_count": 18,
     "metadata": {},
     "output_type": "execute_result"
    }
   ],
   "source": [
    "dict_value_by_column[\"catr\"][1]"
   ]
  },
  {
   "cell_type": "code",
   "execution_count": null,
   "id": "fc32ba2b",
   "metadata": {},
   "outputs": [],
   "source": []
  }
 ],
 "metadata": {
  "kernelspec": {
   "display_name": "Python 3 (ipykernel)",
   "language": "python",
   "name": "python3"
  },
  "language_info": {
   "codemirror_mode": {
    "name": "ipython",
    "version": 3
   },
   "file_extension": ".py",
   "mimetype": "text/x-python",
   "name": "python",
   "nbconvert_exporter": "python",
   "pygments_lexer": "ipython3",
   "version": "3.9.12"
  }
 },
 "nbformat": 4,
 "nbformat_minor": 5
}
