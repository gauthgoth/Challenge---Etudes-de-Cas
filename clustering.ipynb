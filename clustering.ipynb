{
 "cells": [
  {
   "cell_type": "code",
   "execution_count": 1,
   "id": "5b24ad3e",
   "metadata": {},
   "outputs": [],
   "source": [
    "import pandas as pd\n",
    "from geo_utils import filter_france_metr\n",
    "\n",
    "df_car = pd.read_csv('data/caracteristiques.csv',dtype={'dep':'str','com':'str','code_insee':'str'})\n",
    "df_car = filter_france_metr(df_car)\n",
    "\n",
    "df_vehicules = pd.read_csv('data/vehicules.csv')"
   ]
  },
  {
   "cell_type": "code",
   "execution_count": 2,
   "id": "628ebb88",
   "metadata": {},
   "outputs": [],
   "source": [
    "df_velos = df_vehicules[df_vehicules['catv'].isin([1,50,60,80])]"
   ]
  },
  {
   "cell_type": "code",
   "execution_count": 19,
   "id": "ed955b17",
   "metadata": {},
   "outputs": [],
   "source": [
    "df_accidents_velo = df_car.merge(df_velos,how='inner',on='Num_Acc')"
   ]
  },
  {
   "cell_type": "code",
   "execution_count": 20,
   "id": "e9e74b2d",
   "metadata": {},
   "outputs": [],
   "source": [
    "df_accidents_velo.drop_duplicates(subset=['Num_Acc'], keep='last',inplace=True)"
   ]
  },
  {
   "cell_type": "code",
   "execution_count": 21,
   "id": "d8a2d6e5",
   "metadata": {},
   "outputs": [],
   "source": [
    "df_accidents_velo = filter_france_metr(df_accidents_velo)"
   ]
  },
  {
   "cell_type": "code",
   "execution_count": 6,
   "id": "e3cbf9a2",
   "metadata": {},
   "outputs": [],
   "source": [
    "df_usagers = pd.read_csv('data/usagers.csv')"
   ]
  },
  {
   "cell_type": "code",
   "execution_count": 7,
   "id": "a538073e",
   "metadata": {},
   "outputs": [],
   "source": [
    "df_lieux = pd.read_csv('data/lieux.csv',low_memory=False)"
   ]
  },
  {
   "cell_type": "code",
   "execution_count": 22,
   "id": "3172c2a6",
   "metadata": {},
   "outputs": [],
   "source": [
    "from date_utils import create_date_column,create_dow_column\n",
    "\n",
    "df_accidents_velo['date'] = create_date_column(df_accidents_velo)\n",
    "\n",
    "def get_period(x):\n",
    "    if x< 6:\n",
    "        return \"Aube\"\n",
    "    elif x<16:\n",
    "        return \"Jour\"\n",
    "    elif x<19:\n",
    "        return \"Crépuscule\"\n",
    "    else:\n",
    "        return \"Nuit\"\n",
    "df_accidents_velo[\"periode_journee\"]=df_accidents_velo[\"hrmn\"].apply(lambda x: get_period(int(x[:2])))"
   ]
  },
  {
   "cell_type": "code",
   "execution_count": 24,
   "id": "4f685250",
   "metadata": {},
   "outputs": [],
   "source": [
    "df_accidents_velo['day_of_week'] = create_dow_column(df_accidents_velo)"
   ]
  },
  {
   "cell_type": "code",
   "execution_count": 25,
   "id": "ef80c90b",
   "metadata": {},
   "outputs": [],
   "source": [
    "df_accidents_velo = df_accidents_velo[[\"Num_Acc\", \"lum\",\"agg\", \"int\", \"atm\", \"col\", \"date\", \"periode_journee\",\"day_of_week\"]]"
   ]
  },
  {
   "cell_type": "code",
   "execution_count": 27,
   "id": "28113532",
   "metadata": {},
   "outputs": [],
   "source": [
    "df_jours_feries = pd.read_csv('data/jours_feries_metropole.csv')"
   ]
  },
  {
   "cell_type": "code",
   "execution_count": 28,
   "id": "a6fc6219",
   "metadata": {},
   "outputs": [
    {
     "data": {
      "text/html": [
       "<div>\n",
       "<style scoped>\n",
       "    .dataframe tbody tr th:only-of-type {\n",
       "        vertical-align: middle;\n",
       "    }\n",
       "\n",
       "    .dataframe tbody tr th {\n",
       "        vertical-align: top;\n",
       "    }\n",
       "\n",
       "    .dataframe thead th {\n",
       "        text-align: right;\n",
       "    }\n",
       "</style>\n",
       "<table border=\"1\" class=\"dataframe\">\n",
       "  <thead>\n",
       "    <tr style=\"text-align: right;\">\n",
       "      <th></th>\n",
       "      <th>date</th>\n",
       "      <th>annee</th>\n",
       "      <th>zone</th>\n",
       "      <th>nom_jour_ferie</th>\n",
       "    </tr>\n",
       "  </thead>\n",
       "  <tbody>\n",
       "    <tr>\n",
       "      <th>0</th>\n",
       "      <td>2002-01-01</td>\n",
       "      <td>2002</td>\n",
       "      <td>Métropole</td>\n",
       "      <td>1er janvier</td>\n",
       "    </tr>\n",
       "    <tr>\n",
       "      <th>1</th>\n",
       "      <td>2002-04-01</td>\n",
       "      <td>2002</td>\n",
       "      <td>Métropole</td>\n",
       "      <td>Lundi de Pâques</td>\n",
       "    </tr>\n",
       "    <tr>\n",
       "      <th>2</th>\n",
       "      <td>2002-05-01</td>\n",
       "      <td>2002</td>\n",
       "      <td>Métropole</td>\n",
       "      <td>1er mai</td>\n",
       "    </tr>\n",
       "    <tr>\n",
       "      <th>3</th>\n",
       "      <td>2002-05-08</td>\n",
       "      <td>2002</td>\n",
       "      <td>Métropole</td>\n",
       "      <td>8 mai</td>\n",
       "    </tr>\n",
       "    <tr>\n",
       "      <th>4</th>\n",
       "      <td>2002-05-09</td>\n",
       "      <td>2002</td>\n",
       "      <td>Métropole</td>\n",
       "      <td>Ascension</td>\n",
       "    </tr>\n",
       "    <tr>\n",
       "      <th>...</th>\n",
       "      <td>...</td>\n",
       "      <td>...</td>\n",
       "      <td>...</td>\n",
       "      <td>...</td>\n",
       "    </tr>\n",
       "    <tr>\n",
       "      <th>281</th>\n",
       "      <td>2027-07-14</td>\n",
       "      <td>2027</td>\n",
       "      <td>Métropole</td>\n",
       "      <td>14 juillet</td>\n",
       "    </tr>\n",
       "    <tr>\n",
       "      <th>282</th>\n",
       "      <td>2027-08-15</td>\n",
       "      <td>2027</td>\n",
       "      <td>Métropole</td>\n",
       "      <td>Assomption</td>\n",
       "    </tr>\n",
       "    <tr>\n",
       "      <th>283</th>\n",
       "      <td>2027-11-01</td>\n",
       "      <td>2027</td>\n",
       "      <td>Métropole</td>\n",
       "      <td>Toussaint</td>\n",
       "    </tr>\n",
       "    <tr>\n",
       "      <th>284</th>\n",
       "      <td>2027-11-11</td>\n",
       "      <td>2027</td>\n",
       "      <td>Métropole</td>\n",
       "      <td>11 novembre</td>\n",
       "    </tr>\n",
       "    <tr>\n",
       "      <th>285</th>\n",
       "      <td>2027-12-25</td>\n",
       "      <td>2027</td>\n",
       "      <td>Métropole</td>\n",
       "      <td>Jour de Noël</td>\n",
       "    </tr>\n",
       "  </tbody>\n",
       "</table>\n",
       "<p>286 rows × 4 columns</p>\n",
       "</div>"
      ],
      "text/plain": [
       "           date  annee       zone   nom_jour_ferie\n",
       "0    2002-01-01   2002  Métropole      1er janvier\n",
       "1    2002-04-01   2002  Métropole  Lundi de Pâques\n",
       "2    2002-05-01   2002  Métropole          1er mai\n",
       "3    2002-05-08   2002  Métropole            8 mai\n",
       "4    2002-05-09   2002  Métropole        Ascension\n",
       "..          ...    ...        ...              ...\n",
       "281  2027-07-14   2027  Métropole       14 juillet\n",
       "282  2027-08-15   2027  Métropole       Assomption\n",
       "283  2027-11-01   2027  Métropole        Toussaint\n",
       "284  2027-11-11   2027  Métropole      11 novembre\n",
       "285  2027-12-25   2027  Métropole     Jour de Noël\n",
       "\n",
       "[286 rows x 4 columns]"
      ]
     },
     "execution_count": 28,
     "metadata": {},
     "output_type": "execute_result"
    }
   ],
   "source": [
    "df_jours_feries['date'] = pd.to_datetime(df_jours_feries['date'])\n"
   ]
  },
  {
   "cell_type": "code",
   "execution_count": null,
   "id": "17d6e427",
   "metadata": {},
   "outputs": [],
   "source": []
  }
 ],
 "metadata": {
  "kernelspec": {
   "display_name": "Python 3 (ipykernel)",
   "language": "python",
   "name": "python3"
  },
  "language_info": {
   "codemirror_mode": {
    "name": "ipython",
    "version": 3
   },
   "file_extension": ".py",
   "mimetype": "text/x-python",
   "name": "python",
   "nbconvert_exporter": "python",
   "pygments_lexer": "ipython3",
   "version": "3.10.6"
  }
 },
 "nbformat": 4,
 "nbformat_minor": 5
}
