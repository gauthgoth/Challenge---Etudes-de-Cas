{
 "cells": [
  {
   "cell_type": "code",
   "execution_count": 2,
   "metadata": {},
   "outputs": [
    {
     "name": "stdout",
     "output_type": "stream",
     "text": [
      "{'d_service': 0.006572543164335537, 'largeur_g': 0.04008665803014001, 'largeur_d': 0.04412679592180284, 'access_ame': 0.09581421220970658, 'num_iti': 0.11879249646853889, 'lumiere': 0.22873987220868192, 'local_g': 0.305550066237768, 'local_d': 0.3081666410498503, 'revet_d': 0.5849819584422048, 'revet_g': 0.5849856179873966, 'regime_g': 0.6879139860498137, 'sens_g': 0.801008570654839, 'trafic_vit': 0.8546209077135893, 'regime_d': 0.8604652013847719, 'code_com_g': 0.9992534527808884, 'code_com_d': 0.9992607718712718, 'sens_d': 0.9997840868336884, 'ame_d': 0.9999743831836579, 'id_local': 1.0, 'statut_d': 1.0, 'ame_g': 1.0, 'statut_g': 1.0, 'date_maj': 1.0, 'id_osm': 1.0, 'source': 1.0, 'ref_geo': 1.0, 'project_c': 1.0}\n"
     ]
    }
   ],
   "source": [
    "import json\n",
    "with open('./france-20230101.geojson') as f:\n",
    "    data = json.load(f)\n",
    "\n",
    "important_features = ['id_local', 'ame_d', 'regime_d', 'sens_d', 'local_d', 'statut_d', 'revet_d', 'ame_g', 'regime_g', 'sens_g', 'local_g', 'statut_g', 'revet_g',\n",
    "                        'largeur_d', 'largeur_g',\n",
    "                        'trafic_vit', 'lumiere',\n",
    "                        'd_service', 'date_maj', 'access_ame']\n",
    "\n",
    "useless_features = ['id_osm', 'code_com_d', 'num_iti', 'source', 'ref_geo', 'code_com_g', 'project_c']\n",
    "\n",
    "count = {key:0 for key in important_features + useless_features}\n",
    "\n",
    "for feature in data['features']:\n",
    "    for key in feature['properties'].keys():\n",
    "        count[key] += 1\n",
    "\n",
    "    #if 'd_service' in feature['properties']:\n",
    "    #    print(feature['properties'])\n",
    "\n",
    "reduced_count = {key:count[key]/len(data['features']) for key in count.keys()}\n",
    "print(dict(sorted(reduced_count.items(), key=lambda item: item[1])))\n",
    "\n"
   ]
  },
  {
   "cell_type": "code",
   "execution_count": 17,
   "metadata": {},
   "outputs": [
    {
     "name": "stdout",
     "output_type": "stream",
     "text": [
      "dict_keys(['type', 'properties', 'geometry'])\n",
      "{'type': 'LineString', 'coordinates': [[0.005850700000012, 47.0862118], [0.0057496, 47.08643619999999], [0.0056467, 47.0865687]]}\n",
      "{'id_local': 'geovelo_429754890_86274', 'id_osm': '429754890', 'code_com_d': '86274', 'ame_d': 'AUTRE', 'regime_d': 'EN AGGLOMERATION', 'sens_d': 'UNIDIRECTIONNEL', 'statut_d': 'EN SERVICE', 'revet_d': 'LISSE', 'code_com_g': '86274', 'ame_g': 'AUTRE', 'regime_g': 'EN AGGLOMERATION', 'sens_g': 'UNIDIRECTIONNEL', 'statut_g': 'EN SERVICE', 'revet_g': 'LISSE', 'date_maj': '2020-07-28', 'trafic_vit': 30, 'source': 'Les contributeurs OpenStreetmap', 'project_c': '4326', 'ref_geo': 'OpenStreetmap'}\n"
     ]
    }
   ],
   "source": [
    "print(data['features'][0].keys())\n",
    "print(data['features'][0][\"geometry\"])      #interessant de prendre en compte la longueur de la route\n",
    "print(data['features'][0][\"properties\"])"
   ]
  },
  {
   "cell_type": "code",
   "execution_count": 21,
   "metadata": {},
   "outputs": [],
   "source": [
    "def get_feature_repartition(feat, verbose=True):\n",
    "    res = {}\n",
    "    n_missing = 0\n",
    "    for elem in data['features']:\n",
    "        if feat not in elem[\"properties\"]:\n",
    "            n_missing += 1\n",
    "            continue\n",
    "        if elem[\"properties\"][feat] not in res:\n",
    "            res[elem[\"properties\"][feat]] = 1\n",
    "        else:\n",
    "            res[elem[\"properties\"][feat]] += 1\n",
    "    \n",
    "    missing_rate = n_missing/len(data['features'])\n",
    "    if verbose:\n",
    "        print(f\"Feature {feat}: missing values account for {100*missing_rate:.2f}% of the dataset\")\n",
    "    return res, missing_rate\n",
    "from math import radians, cos, sin, asin, sqrt\n",
    "\n",
    "def distance(lon1, lat1, lon2, lat2):\n",
    "     \n",
    "    # The math module contains a function named\n",
    "    # radians which converts from degrees to radians.\n",
    "    lon1 = radians(lon1)\n",
    "    lon2 = radians(lon2)\n",
    "    lat1 = radians(lat1)\n",
    "    lat2 = radians(lat2)\n",
    "      \n",
    "    # Haversine formula\n",
    "    dlon = lon2 - lon1\n",
    "    dlat = lat2 - lat1\n",
    "    a = sin(dlat / 2)**2 + cos(lat1) * cos(lat2) * sin(dlon / 2)**2\n",
    "\n",
    "    c = 2 * asin(sqrt(a))\n",
    "    # Radius of earth in kilometers. Use 3956 for miles\n",
    "    r = 6371\n",
    "    return(c * r)\n",
    "    \n",
    "def get_feature_len(feat, verbose=True):\n",
    "    def get_len(coords):\n",
    "        d=0\n",
    "        for i in range(1, len(coords)):\n",
    "            d += distance(*coords[i-1], *coords[i])\n",
    "        return d\n",
    "    res = {}\n",
    "    n_missing = 0\n",
    "    missing_dist = 0\n",
    "    for elem in data['features']:\n",
    "        if feat not in elem[\"properties\"]:\n",
    "            n_missing += 1\n",
    "            missing_dist += get_len(elem[\"geometry\"][\"coordinates\"])\n",
    "            continue\n",
    "        if elem[\"properties\"][feat] not in res:\n",
    "            res[elem[\"properties\"][feat]] = get_len(elem[\"geometry\"][\"coordinates\"])\n",
    "        else:\n",
    "            res[elem[\"properties\"][feat]] += get_len(elem[\"geometry\"][\"coordinates\"])\n",
    "    \n",
    "    missing_rate = n_missing/len(data['features'])\n",
    "    total_dist = sum(res.values()) + missing_dist\n",
    "    if verbose:\n",
    "        print(f\"Feature {feat}: missing values account for {100*missing_rate:.2f}% of the dataset, ({100*missing_dist/total_dist:.2f}% of the routes length missing)\")\n",
    "    return res, missing_rate"
   ]
  },
  {
   "cell_type": "code",
   "execution_count": 20,
   "metadata": {},
   "outputs": [
    {
     "name": "stdout",
     "output_type": "stream",
     "text": [
      "Feature largeur_d: missing values account for 95.59% of the dataset, (92.60% of the routes lenght missing)\n",
      "Feature largeur_g: missing values account for 95.99% of the dataset, (92.75% of the routes lenght missing)\n",
      "Feature lumiere: missing values account for 77.13% of the dataset, (83.65% of the routes lenght missing)\n",
      "Feature access_ame: missing values account for 90.42% of the dataset, (82.31% of the routes lenght missing)\n"
     ]
    }
   ],
   "source": [
    "t = [\"ame_d\", \"ame_g\", \"regime_d\", \"regime_g\", \"sens_d\", \"sens_g\", \"local_g\", \"local_d\", \"trafic_vit\"]\n",
    "u = [\"id_local\", \"statut_d\", \"statut_g\", \"revet_d\", \"revet_g\", \"d_service\", \"date_maj\"]\n",
    "for feat in important_features:\n",
    "    if feat in t+u:\n",
    "        continue\n",
    "    #repartition, missing_rate = get_feature_repartition(feat)\n",
    "    repartition, missing_rate = get_feature_len(feat)\n",
    "    if len(repartition) <= 20 and missing_rate < .7:\n",
    "        print(repartition)\n"
   ]
  },
  {
   "cell_type": "code",
   "execution_count": 31,
   "metadata": {},
   "outputs": [
    {
     "name": "stdout",
     "output_type": "stream",
     "text": [
      "Feature ame_g: missing values account for 0.00% of the dataset, (0.00% of the routes length missing)\n",
      "Feature ame_d: missing values account for 0.00% of the dataset, (0.00% of the routes length missing)\n",
      "{'cyclable': 50954.11069513227, 'non cyclable': 15069.15925638992}\n",
      "{'unique': 49770.44284491312, 'double': 1183.6678502191487}\n"
     ]
    }
   ],
   "source": [
    "rep_g, _ = get_feature_len(\"ame_g\")\n",
    "rep_d, _ = get_feature_len(\"ame_d\")\n",
    "\n",
    "key_cyclables = [\"PISTE CYCLABLE\", \"BANDE CYCLABLE\", \"DOUBLE SENS CYCLABLE BANDE\", \"DOUBLE SENS CYCLABLE PISTE\"]\n",
    "key_non_cyclables = [\"AUCUN\", \"CHAUSSEE A VOIE CENTRALE BANALISEE\", \"VELO RUE\"]\n",
    "\n",
    "key_sens_unique = [\"PISTE CYCLABLE\", \"BANDE CYCLABLE\"]\n",
    "key_sens_double = [\"DOUBLE SENS CYCLABLE BANDE\", \"DOUBLE SENS CYCLABLE PISTE\"]\n",
    "\n",
    "rep_cyclable = {\"cyclable\":0, \"non cyclable\":0}\n",
    "rep_sens = {\"unique\":0, \"double\":0}\n",
    "\n",
    "for key in key_cyclables + key_non_cyclables:\n",
    "    if key in key_cyclables:\n",
    "        rep_cyclable[\"cyclable\"] += rep_g[key] + rep_d[key]\n",
    "    else:\n",
    "        rep_cyclable[\"non cyclable\"] += rep_g[key] + rep_d[key]\n",
    "    if key in key_sens_unique:\n",
    "        rep_sens[\"unique\"] += rep_g[key] + rep_d[key]\n",
    "    elif key in key_sens_double:\n",
    "        rep_sens[\"double\"] += rep_g[key] + rep_d[key]\n",
    "\n",
    "print(rep_cyclable) #reserve aux velos ou non\n",
    "print(rep_sens)\n",
    "\n"
   ]
  },
  {
   "cell_type": "code",
   "execution_count": 32,
   "metadata": {},
   "outputs": [
    {
     "name": "stdout",
     "output_type": "stream",
     "text": [
      "Feature local_g: missing values account for 69.44% of the dataset, (74.75% of the routes length missing)\n",
      "Feature local_d: missing values account for 69.18% of the dataset, (76.71% of the routes length missing)\n",
      "{'CHAUSSEE': 22970.042944178083, 'TROTTOIR': 2935.9675154151882}\n"
     ]
    }
   ],
   "source": [
    "rep_g, _ = get_feature_len(\"local_g\")\n",
    "rep_d, _ = get_feature_len(\"local_d\")\n",
    "rep = {}\n",
    "for key in rep_g:\n",
    "    rep[key] = rep_g[key] + rep_d[key]\n",
    "\n",
    "print(rep)\n"
   ]
  },
  {
   "cell_type": "code",
   "execution_count": null,
   "metadata": {},
   "outputs": [],
   "source": []
  }
 ],
 "metadata": {
  "kernelspec": {
   "display_name": ".venv",
   "language": "python",
   "name": "python3"
  },
  "language_info": {
   "codemirror_mode": {
    "name": "ipython",
    "version": 3
   },
   "file_extension": ".py",
   "mimetype": "text/x-python",
   "name": "python",
   "nbconvert_exporter": "python",
   "pygments_lexer": "ipython3",
   "version": "3.9.13 (tags/v3.9.13:6de2ca5, May 17 2022, 16:36:42) [MSC v.1929 64 bit (AMD64)]"
  },
  "orig_nbformat": 4,
  "vscode": {
   "interpreter": {
    "hash": "1714341354670aee5ceb894891d9ada0a5a92beca87c5e00260dcb604667ae92"
   }
  }
 },
 "nbformat": 4,
 "nbformat_minor": 2
}
