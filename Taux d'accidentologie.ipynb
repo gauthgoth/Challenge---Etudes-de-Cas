{
 "cells": [
  {
   "cell_type": "code",
   "execution_count": 1,
   "id": "308395d6",
   "metadata": {},
   "outputs": [],
   "source": [
    "import pandas as pd\n",
    "import os"
   ]
  },
  {
   "cell_type": "code",
   "execution_count": 2,
   "id": "234f9460",
   "metadata": {},
   "outputs": [
    {
     "name": "stderr",
     "output_type": "stream",
     "text": [
      "/var/folders/kf/rsvfsx611_3f7p2ctq98yhqm0000gn/T/ipykernel_22559/1520861101.py:1: DtypeWarning: Columns (4,7,8,13,15) have mixed types. Specify dtype option on import or set low_memory=False.\n",
      "  df_paris = pd.read_csv(\"../df_acc_agg_paris.csv\")\n"
     ]
    }
   ],
   "source": [
    "df_paris = pd.read_csv(\"../df_acc_agg_paris.csv\")"
   ]
  },
  {
   "cell_type": "code",
   "execution_count": 3,
   "id": "ffaaa741",
   "metadata": {},
   "outputs": [
    {
     "name": "stderr",
     "output_type": "stream",
     "text": [
      "/var/folders/kf/rsvfsx611_3f7p2ctq98yhqm0000gn/T/ipykernel_22559/4260181072.py:1: DtypeWarning: Columns (4,7,8,9,13) have mixed types. Specify dtype option on import or set low_memory=False.\n",
      "  df_agg_all = pd.read_csv(\"../df_acc_agg.csv\")\n"
     ]
    }
   ],
   "source": [
    "df_agg_all = pd.read_csv(\"../df_acc_agg.csv\")"
   ]
  },
  {
   "cell_type": "code",
   "execution_count": 7,
   "id": "86c4a638",
   "metadata": {},
   "outputs": [],
   "source": [
    "def get_taux_accidentologie_velo(df):\n",
    "    df_acc_for_percentage = df[[\"an\", \"Num_Acc\", \"catv\"]]\n",
    "    df_acc_for_percentage.drop_duplicates(inplace=True)\n",
    "    df_acc_for_percentage[\"is_velo\"] = df_acc_for_percentage[\"catv\"].isin([1, 50, 60,80]).replace({True: 1, False: 0})\n",
    "    df_velo_implicated = df_acc_for_percentage.groupby([\"an\", \"Num_Acc\"], as_index=False)[[\"is_velo\"]].max()\n",
    "    print(df_velo_implicated.groupby([\"an\"], as_index=False).agg({\"is_velo\":['mean', 'sum', 'count']}))"
   ]
  },
  {
   "cell_type": "code",
   "execution_count": 8,
   "id": "7ca4872e",
   "metadata": {},
   "outputs": [
    {
     "name": "stdout",
     "output_type": "stream",
     "text": [
      "      an   is_velo            \n",
      "              mean   sum count\n",
      "0      5  0.069012   508  7361\n",
      "1      6  0.071366   568  7959\n",
      "2      7  0.089163   766  8591\n",
      "3      8  0.083514   692  8286\n",
      "4      9  0.087735   701  7990\n",
      "5     10  0.084389   606  7181\n",
      "6     11  0.099436   723  7271\n",
      "7     12  0.100514   704  7004\n",
      "8     13  0.115592   771  6670\n",
      "9     14  0.123053   806  6550\n",
      "10    15  0.122217   752  6153\n",
      "11    16  0.132694   858  6466\n",
      "12    17  0.129455   770  5948\n",
      "13    18  0.128957   721  5591\n",
      "14  2019  0.202317  1135  5610\n",
      "15  2020  0.322471  1524  4726\n",
      "16  2021  0.306569  1554  5069\n"
     ]
    },
    {
     "name": "stderr",
     "output_type": "stream",
     "text": [
      "/var/folders/kf/rsvfsx611_3f7p2ctq98yhqm0000gn/T/ipykernel_22559/1458723096.py:3: SettingWithCopyWarning: \n",
      "A value is trying to be set on a copy of a slice from a DataFrame\n",
      "\n",
      "See the caveats in the documentation: https://pandas.pydata.org/pandas-docs/stable/user_guide/indexing.html#returning-a-view-versus-a-copy\n",
      "  df_acc_for_percentage.drop_duplicates(inplace=True)\n",
      "/var/folders/kf/rsvfsx611_3f7p2ctq98yhqm0000gn/T/ipykernel_22559/1458723096.py:4: SettingWithCopyWarning: \n",
      "A value is trying to be set on a copy of a slice from a DataFrame.\n",
      "Try using .loc[row_indexer,col_indexer] = value instead\n",
      "\n",
      "See the caveats in the documentation: https://pandas.pydata.org/pandas-docs/stable/user_guide/indexing.html#returning-a-view-versus-a-copy\n",
      "  df_acc_for_percentage[\"is_velo\"] = df_acc_for_percentage[\"catv\"].isin([1, 50, 60,80]).replace({True: 1, False: 0})\n"
     ]
    }
   ],
   "source": [
    "get_taux_accidentologie_velo(df_paris)"
   ]
  },
  {
   "cell_type": "code",
   "execution_count": 9,
   "id": "ef481d75",
   "metadata": {},
   "outputs": [
    {
     "name": "stderr",
     "output_type": "stream",
     "text": [
      "/var/folders/kf/rsvfsx611_3f7p2ctq98yhqm0000gn/T/ipykernel_22559/1458723096.py:3: SettingWithCopyWarning: \n",
      "A value is trying to be set on a copy of a slice from a DataFrame\n",
      "\n",
      "See the caveats in the documentation: https://pandas.pydata.org/pandas-docs/stable/user_guide/indexing.html#returning-a-view-versus-a-copy\n",
      "  df_acc_for_percentage.drop_duplicates(inplace=True)\n",
      "/var/folders/kf/rsvfsx611_3f7p2ctq98yhqm0000gn/T/ipykernel_22559/1458723096.py:4: SettingWithCopyWarning: \n",
      "A value is trying to be set on a copy of a slice from a DataFrame.\n",
      "Try using .loc[row_indexer,col_indexer] = value instead\n",
      "\n",
      "See the caveats in the documentation: https://pandas.pydata.org/pandas-docs/stable/user_guide/indexing.html#returning-a-view-versus-a-copy\n",
      "  df_acc_for_percentage[\"is_velo\"] = df_acc_for_percentage[\"catv\"].isin([1, 50, 60,80]).replace({True: 1, False: 0})\n"
     ]
    },
    {
     "name": "stdout",
     "output_type": "stream",
     "text": [
      "      an   is_velo             \n",
      "              mean   sum  count\n",
      "0      5  0.058190  5064  87026\n",
      "1      6  0.060427  5015  82993\n",
      "2      7  0.061598  5165  83850\n",
      "3      8  0.063139  4847  76767\n",
      "4      9  0.065879  4902  74409\n",
      "5     10  0.063492  4405  69379\n",
      "6     11  0.070654  4732  66974\n",
      "7     12  0.070040  4360  62250\n",
      "8     13  0.071819  4194  58397\n",
      "9     14  0.076269  4565  59854\n",
      "10    15  0.078392  4598  58654\n",
      "11    16  0.076693  4558  59432\n",
      "12    17  0.077132  4682  60701\n",
      "13    18  0.082879  4789  57783\n",
      "14  2019  0.098980  5824  58840\n",
      "15  2020  0.127911  6107  47744\n",
      "16  2021  0.132931  7513  56518\n"
     ]
    }
   ],
   "source": [
    "get_taux_accidentologie_velo(df_agg_all)"
   ]
  },
  {
   "cell_type": "code",
   "execution_count": 10,
   "id": "00e75e7c",
   "metadata": {},
   "outputs": [
    {
     "data": {
      "text/plain": [
       "Index(['Num_Acc', 'an', 'mois', 'jour', 'hrmn', 'agg', 'adr', 'lat', 'long',\n",
       "       'dep', 'catv', 'grav', 'catr', 'voie', 'v1', 'v2', 'circ', 'nbv',\n",
       "       'vosp', 'prof', 'plan', 'larrout', 'surf', 'infra', 'situ'],\n",
       "      dtype='object')"
      ]
     },
     "execution_count": 10,
     "metadata": {},
     "output_type": "execute_result"
    }
   ],
   "source": [
    "df_paris.columns"
   ]
  },
  {
   "cell_type": "code",
   "execution_count": 12,
   "id": "0f1d13c0",
   "metadata": {},
   "outputs": [
    {
     "data": {
      "text/plain": [
       "array([1, 2])"
      ]
     },
     "execution_count": 12,
     "metadata": {},
     "output_type": "execute_result"
    }
   ],
   "source": [
    "df_paris[\"agg\"].unique()"
   ]
  },
  {
   "cell_type": "code",
   "execution_count": 15,
   "id": "7c4c4b74",
   "metadata": {},
   "outputs": [
    {
     "data": {
      "text/plain": [
       "array(['A4', 'A86 EXT', 'A13W', 'A13Y', 'AUTOROUTE A6B', 'PORTE DAUPHINE',\n",
       "       'PORTE MAILLOT', ', A13 W', 'AUTOROUTE A6A', 'A13 W', 'A 13 W',\n",
       "       'A 13 Y', 'BOULEVARD PERIPHERIQUE', 'PORTE DE VINCENNES',\n",
       "       'Autoroute A4', 'A86.INT', 'BD DIDEROT R DE PICPUS',\n",
       "       'R DE BAGNOLET R DE PLANC', 'AV D ITALIE R TAGORE',\n",
       "       'BD DIDEROT R DE LYON', 'BPI MONTREUIL VINCENNES',\n",
       "       'BPI BAGNOLET MONTREUIL', 'BPE CHAMPERRET TERNES', 'A13',\n",
       "       '59, RUE DU MONT CENIS', '22, QUAI D ORLEANS', 'RUE DE RENNES',\n",
       "       'ALLEE DE LONGCHAMP', '67, BOULEVARD DE COURCEL',\n",
       "       '42, COURS ALBERT 1ER', '206, RUE DU FAUBOURG SAI',\n",
       "       '52, BOULEVARD DE MAGENTA', '24, AVENUE DE LA REPUBLI',\n",
       "       'AVENUE DE NOGENT', 'ROUTE DE LA PYRAMIDE',\n",
       "       '37, RUE DU SERGENT BAUCH', 'ROUTE DE LA FERME',\n",
       "       '124, QUAI DE BERCY', '82-86, RUE DE REUILLY', 'AUTOROUTE A4',\n",
       "       '232, BOULEVARD RASPAIL', 'ROUTE DE LA MUETTE A NEU',\n",
       "       'ALLEE DE LA REINE MARGUE', 'PLACE DE LA PORTE MAILLO',\n",
       "       'BOULEVARD PERIPHERIQUE I', 'CARREFOUR DES CASCADES',\n",
       "       '9, AVENUE DE CLICHY', 'ECHANGEUR CHAPELLE',\n",
       "       '2, AVENUE DE LA PORTE D', 'PLACE DE LA PORTE DE MON',\n",
       "       'BOULEVARD PERIPHERIQUE E', '0, BOULEVARD SERURIER',\n",
       "       'ROUTE DAUPHINE', 'PORTE D AUTEUIL', 'PORTE DU PRE SAINT GERVA',\n",
       "       'ECHANGEUR MAILLOT', 'PORTE DE CLIGNANCOURT',\n",
       "       'PORTE DE LA VILLETTE', 'PORTE DE CHAMPERRET', 'PORTE D ITALIE',\n",
       "       'PORTE DE LA CHAPELLE', 'PORTE DOREE', 'PORTE DE PANTIN',\n",
       "       'PL LEON BLUM AV PARMENTI', '21 AV PIERRE COUBERTIN',\n",
       "       'PL JEAN MONNET R DE LA P', 'AV DAUMESNIL ESP SAINT L',\n",
       "       '1 BD RICHARD LENOIR', 'L3262 PL DE LA CONCORDE',\n",
       "       'R NANSOUTY AV RENE COTY', '2 AV TER DE FRANCE', '21 QU DE CONTI',\n",
       "       'BPE ST MANDE VINCENNES', 'R A DE LA FORGE AV GRAND',\n",
       "       'BPI TERNES CHAMPERRET', '74 AV SIMON BOLIVAR', 'QUAI BRANLY',\n",
       "       '14, AVENUE DE VILLIERS', '0, BOULEVARD PERIPHERIQU',\n",
       "       'PORTE D ASNIERES', 'PORTE DE CHATILLON', '2, BOULEVARD HAUSSMANN',\n",
       "       '127, BOULEVARD VOLTAIRE', '00, ROUTE DAUPHINE',\n",
       "       'ROUTE DE LA PTE DAUPHINE', 'lampadaire, ROUTE DES TR',\n",
       "       'ROUTE DE SURESNES', '17, AVENUE CORENTIN CARI',\n",
       "       'b8, ECHANGEUR BERCY', 'PORTE DE SEVRES', 'A86 INT',\n",
       "       '67, BOULEVARD DE MAGENTA', 'AVENUE DE L HIPPODROME',\n",
       "       'AVENUE DE NEUILLY', 'ECHANGEUR BAGNOLET', 'ROUTE DE LA FALUERE',\n",
       "       'CARREFOUR DE PATTE D OIE', 'ECHANGEUR ISSY',\n",
       "       'VOIE GEORGES POMPIDOU', 'AVENUE DU MAHATMA GANDHI',\n",
       "       'AVENUE DU PARC DES PRINC', 'CHEMIN DE CEINTURE DU LA',\n",
       "       'AVENUE DE LA PORTE DE LA', 'AVENUE JEAN JAURES',\n",
       "       'PORTE DE MONTREUIL', 'ECHANGEUR BERCY', 'ECHANGEUR MUETTE',\n",
       "       'ECHANGEUR AUTEUIL', 'PORTE DE SAINT OUEN'], dtype=object)"
      ]
     },
     "execution_count": 15,
     "metadata": {},
     "output_type": "execute_result"
    }
   ],
   "source": [
    "df_paris[df_paris[\"agg\"]==1].adr.unique()"
   ]
  },
  {
   "cell_type": "code",
   "execution_count": null,
   "id": "6b250852",
   "metadata": {},
   "outputs": [],
   "source": []
  }
 ],
 "metadata": {
  "kernelspec": {
   "display_name": "Python 3 (ipykernel)",
   "language": "python",
   "name": "python3"
  },
  "language_info": {
   "codemirror_mode": {
    "name": "ipython",
    "version": 3
   },
   "file_extension": ".py",
   "mimetype": "text/x-python",
   "name": "python",
   "nbconvert_exporter": "python",
   "pygments_lexer": "ipython3",
   "version": "3.9.12"
  }
 },
 "nbformat": 4,
 "nbformat_minor": 5
}
